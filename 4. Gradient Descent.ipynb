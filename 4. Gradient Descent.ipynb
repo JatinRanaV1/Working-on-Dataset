{
 "cells": [
  {
   "cell_type": "code",
   "execution_count": 13,
   "metadata": {},
   "outputs": [],
   "source": [
    "import numpy as np"
   ]
  },
  {
   "cell_type": "code",
   "execution_count": 25,
   "metadata": {},
   "outputs": [],
   "source": [
    "def gradient_descent(x,y):\n",
    "    m_curr = b_curr = 0\n",
    "    iterations = 10\n",
    "    rate = 0.01\n",
    "    n = len(x)\n",
    "    for i in range(iterations):\n",
    "        y_predicted = m_curr*x + b_curr\n",
    "        cost = (1/n)*sum([val**2 for val in (y-y_predicted)])\n",
    "        md = -(2/n)*sum(x*(y-y_predicted))\n",
    "        yd = -(2/n)*sum(y-y_predicted)\n",
    "        m_curr = m_curr - rate*md\n",
    "        b_curr = b_curr - rate*md\n",
    "        print('m {}, b {}, cost {} iteration {}'.format(m_curr,b_curr,cost,i))"
   ]
  },
  {
   "cell_type": "code",
   "execution_count": 26,
   "metadata": {},
   "outputs": [],
   "source": [
    "x = np.array([1,2,3,4,5])\n",
    "y = np.array([5,7,9,11,13])"
   ]
  },
  {
   "cell_type": "code",
   "execution_count": 27,
   "metadata": {
    "scrolled": true
   },
   "outputs": [
    {
     "name": "stdout",
     "output_type": "stream",
     "text": [
      "m 0.62, b 0.62, cost 89.0 iteration 0\n",
      "m 1.0664, b 1.0664, cost 46.3192 iteration 1\n",
      "m 1.3878080000000002, b 1.3878080000000002, cost 24.157761280000003 iteration 2\n",
      "m 1.6192217600000003, b 1.6192217600000003, cost 12.643558807551997 iteration 3\n",
      "m 1.7858396672000003, b 1.7858396672000003, cost 6.656083145034952 iteration 4\n",
      "m 1.9058045603840001, b 1.9058045603840001, cost 3.5388463290101146 iteration 5\n",
      "m 1.9921792834764802, b 1.9921792834764802, cost 1.9132735721281262 iteration 6\n",
      "m 2.0543690841030657, b 2.0543690841030657, cost 1.0636666771131011 iteration 7\n",
      "m 2.0991457405542073, b 2.0991457405542073, cost 0.6182552786871867 iteration 8\n",
      "m 2.1313849331990293, b 2.1313849331990293, cost 0.3837718772271013 iteration 9\n"
     ]
    }
   ],
   "source": [
    "gradient_descent(x,y)"
   ]
  },
  {
   "cell_type": "code",
   "execution_count": 28,
   "metadata": {},
   "outputs": [],
   "source": [
    "# As we can see above cost decreased after each iterations"
   ]
  },
  {
   "cell_type": "code",
   "execution_count": 29,
   "metadata": {},
   "outputs": [
    {
     "name": "stdout",
     "output_type": "stream",
     "text": [
      "m 27207673.418357473, b 27207673.418357473, cost 426745529812.407 iteration 0\n",
      "m -2814066516116.9727, b -2814066516116.9727, cost 3.829750510056457e+21 iteration 1\n",
      "m 2.9105931993180397e+17, b 2.9105931993180397e+17, cost 4.096988885687029e+31 iteration 2\n",
      "m -3.0104308915959574e+22, b -3.0104308915959574e+22, cost 4.382875043004727e+41 iteration 3\n",
      "m 3.113693165777604e+27, b 3.113693165777604e+27, cost 4.6887102158620775e+51 iteration 4\n",
      "m -3.2204974901351537e+32, b -3.2204974901351537e+32, cost 5.01588643815389e+61 iteration 5\n",
      "m 3.330965362278095e+37, b 3.330965362278095e+37, cost 5.365892879312478e+71 iteration 6\n",
      "m -3.445222447364895e+42, b -3.445222447364895e+42, cost 5.740322622386988e+81 iteration 7\n",
      "m 3.563398721057056e+47, b 3.563398721057056e+47, cost 6.140879915088349e+91 iteration 8\n",
      "m -3.685628617375206e+52, b -3.685628617375206e+52, cost 6.569387926815797e+101 iteration 9\n"
     ]
    }
   ],
   "source": [
    "# We are now gonna apply Gradient Descent to a dataset\n",
    "\n",
    "# for stipend_data.csv\n",
    "import pandas as pd\n",
    "dataset = pd.read_csv('house_data.csv')\n",
    "\n",
    "x = np.array(dataset.sqft_living[0:])\n",
    "y = np.array(dataset.price[0:])\n",
    "\n",
    "gradient_descent(x,y)"
   ]
  },
  {
   "cell_type": "code",
   "execution_count": 30,
   "metadata": {},
   "outputs": [],
   "source": [
    "# We can alter learning rate so as to get minimum cost"
   ]
  },
  {
   "cell_type": "code",
   "execution_count": 38,
   "metadata": {},
   "outputs": [
    {
     "name": "stdout",
     "output_type": "stream",
     "text": [
      "m 2720767.3418357475, b 2720767.3418357475, cost 426745529812.407 iteration 0\n",
      "m -28135767779.954563, b -28135767779.954563, cost 3.8290840560129016e+19 iteration 1\n",
      "m 290983346747333.75, b 290983346747333.75, cost 4.0955630698005613e+27 iteration 2\n",
      "m -3.0093832148000005e+18, b -3.0093832148000005e+18, cost 4.38058727900181e+35 iteration 3\n",
      "m 3.1123387076141096e+22, b 3.1123387076141096e+22, cost 4.685447295501168e+43 iteration 4\n",
      "m -3.2188164615507745e+26, b -3.2188164615507745e+26, cost 5.01152356081398e+51 iteration 5\n",
      "m 3.3289369784218037e+30, b 3.3289369784218037e+30, cost 5.360292586090256e+59 iteration 6\n",
      "m -3.4428248825859314e+34, b -3.4428248825859314e+34, cost 5.73333363793001e+67 iteration 7\n",
      "m 3.560609061987248e+38, b 3.560609061987248e+38, cost 6.132335889484881e+75 iteration 8\n",
      "m -3.682422814018678e+42, b -3.682422814018678e+42, cost 6.559106069229917e+83 iteration 9\n"
     ]
    }
   ],
   "source": [
    "def gradient_descent(x,y):\n",
    "    m_curr = b_curr = 0\n",
    "    iterations = 10\n",
    "    rate = 0.001\n",
    "    n = len(x)\n",
    "    for i in range(iterations):\n",
    "        y_predicted = m_curr*x + b_curr\n",
    "        cost = (1/n)*sum([val**2 for val in (y-y_predicted)])\n",
    "        md = -(2/n)*sum(x*(y-y_predicted))\n",
    "        yd = -(2/n)*sum(y-y_predicted)\n",
    "        m_curr = m_curr - rate*md\n",
    "        b_curr = b_curr - rate*md\n",
    "        print('m {}, b {}, cost {} iteration {}'.format(m_curr,b_curr,cost,i))\n",
    "        \n",
    "dataset = pd.read_csv('house_data.csv')\n",
    "\n",
    "x = np.array(dataset.sqft_living[0:])\n",
    "y = np.array(dataset.price[0:])\n",
    "\n",
    "gradient_descent(x,y)"
   ]
  },
  {
   "cell_type": "code",
   "execution_count": 44,
   "metadata": {},
   "outputs": [
    {
     "name": "stdout",
     "output_type": "stream",
     "text": [
      "m 217661387.34685978, b 217661387.34685978, cost 426745529812.407 iteration 0\n",
      "m -180103304290909.8, b -180103304290909.8, cost 2.4510817970476283e+23 iteration 1\n",
      "m 1.4902615394247708e+20, b 1.4902615394247708e+20, cost 1.6781834348665917e+35 iteration 2\n",
      "m -1.2331142199913238e+26, b -1.2331142199913238e+26, cost 1.1490027156538596e+47 iteration 3\n",
      "m 1.0203381348294891e+32, b 1.0203381348294891e+32, cost 7.866882804053273e+58 iteration 4\n",
      "m -8.442769473493221e+37, b -8.442769473493221e+37, cost 5.386222696392061e+70 iteration 5\n",
      "m 6.985954356636954e+43, b 6.985954356636954e+43, cost 3.6877878643598983e+82 iteration 6\n",
      "m -5.780515318609474e+49, b -5.780515318609474e+49, cost 2.5249196141906298e+94 iteration 7\n",
      "m 4.783076963125713e+55, b 4.783076963125713e+55, cost 1.7287380111360945e+106 iteration 8\n",
      "m -3.957748396848547e+61, b -3.957748396848547e+61, cost 1.1836159433948925e+118 iteration 9\n"
     ]
    }
   ],
   "source": [
    "def gradient_descent(x,y):\n",
    "    m_curr = b_curr = 0\n",
    "    iterations = 10\n",
    "    rate = 0.08\n",
    "    n = len(x)\n",
    "    for i in range(iterations):\n",
    "        y_predicted = m_curr*x + b_curr\n",
    "        cost = (1/n)*sum([val**2 for val in (y-y_predicted)])\n",
    "        md = -(2/n)*sum(x*(y-y_predicted))\n",
    "        yd = -(2/n)*sum(y-y_predicted)\n",
    "        m_curr = m_curr - rate*md\n",
    "        b_curr = b_curr - rate*md\n",
    "        print('m {}, b {}, cost {} iteration {}'.format(m_curr,b_curr,cost,i))\n",
    "        \n",
    "dataset = pd.read_csv('house_data.csv')\n",
    "\n",
    "x = np.array(dataset.sqft_living[0:])\n",
    "y = np.array(dataset.price[0:])\n",
    "\n",
    "gradient_descent(x,y)"
   ]
  },
  {
   "cell_type": "code",
   "execution_count": 45,
   "metadata": {},
   "outputs": [
    {
     "name": "stdout",
     "output_type": "stream",
     "text": [
      "m 190453713.92850232, b 190453713.92850232, cost 426745529812.407 iteration 0\n",
      "m -137891544734299.78, b -137891544734299.78, cost 1.8766088528830762e+23 iteration 1\n",
      "m 9.983582876384421e+19, b 9.983582876384421e+19, cost 9.837196397712455e+34 iteration 2\n",
      "m -7.228284173732672e+25, b -7.228284173732672e+25, cost 5.156665056755954e+46 iteration 3\n",
      "m 5.233400948653791e+31, b 5.233400948653791e+31, cost 2.703127337556556e+58 iteration 4\n",
      "m -3.7890714907002004e+37, b -3.7890714907002004e+37, cost 1.4169811928104448e+70 iteration 5\n",
      "m 2.7433523443928153e+43, b 2.7433523443928153e+43, cost 7.427825070916288e+81 iteration 6\n",
      "m -1.9862338580723659e+49, b -1.9862338580723659e+49, cost 3.893670965011819e+93 iteration 7\n",
      "m 1.438067168811426e+55, b 1.438067168811426e+55, cost 2.0410649738019392e+105 iteration 8\n",
      "m -1.0411851422270901e+61, b -1.0411851422270901e+61, cost 1.0699276504656448e+117 iteration 9\n"
     ]
    }
   ],
   "source": [
    "def gradient_descent(x,y):\n",
    "    m_curr = b_curr = 0\n",
    "    iterations = 10\n",
    "    rate = 0.07\n",
    "    n = len(x)\n",
    "    for i in range(iterations):\n",
    "        y_predicted = m_curr*x + b_curr\n",
    "        cost = (1/n)*sum([val**2 for val in (y-y_predicted)])\n",
    "        md = -(2/n)*sum(x*(y-y_predicted))\n",
    "        yd = -(2/n)*sum(y-y_predicted)\n",
    "        m_curr = m_curr - rate*md\n",
    "        b_curr = b_curr - rate*md\n",
    "        print('m {}, b {}, cost {} iteration {}'.format(m_curr,b_curr,cost,i))\n",
    "        \n",
    "dataset = pd.read_csv('house_data.csv')\n",
    "\n",
    "x = np.array(dataset.sqft_living[0:])\n",
    "y = np.array(dataset.price[0:])\n",
    "\n",
    "gradient_descent(x,y)"
   ]
  },
  {
   "cell_type": "code",
   "execution_count": null,
   "metadata": {},
   "outputs": [],
   "source": [
    "# So we got the minimum cost at learning rate = 0.001"
   ]
  }
 ],
 "metadata": {
  "kernelspec": {
   "display_name": "Python 3",
   "language": "python",
   "name": "python3"
  },
  "language_info": {
   "codemirror_mode": {
    "name": "ipython",
    "version": 3
   },
   "file_extension": ".py",
   "mimetype": "text/x-python",
   "name": "python",
   "nbconvert_exporter": "python",
   "pygments_lexer": "ipython3",
   "version": "3.7.4"
  }
 },
 "nbformat": 4,
 "nbformat_minor": 2
}
